{
 "cells": [
  {
   "cell_type": "markdown",
   "metadata": {},
   "source": [
    "# Donation Analysis\n",
    "\n",
    "Wellcome to this Jupyter Notebook. Below you will see code that will perform some\n",
    "\n",
    "- Exploratory Analysis\n",
    "- Data Visualisation\n",
    "\n",
    "on some (fake) donation data. Important - as data is made up it is quite weird.\n",
    "\n",
    "We were going to do an example of network analysis but decided against it as it uses additional tools outside of jupyter notebook.\n",
    "\n",
    "You can run each cell by selecting it and clicking run in the toolbar above. Cells sometimes need to be run in order.\n",
    "\n",
    "Below is a cell where the data is imported and then manipulated into a Pandas Dataframe from which we can do some analysis."
   ]
  },
  {
   "cell_type": "code",
   "execution_count": 38,
   "metadata": {},
   "outputs": [
    {
     "data": {
      "text/html": [
       "<div>\n",
       "<style scoped>\n",
       "    .dataframe tbody tr th:only-of-type {\n",
       "        vertical-align: middle;\n",
       "    }\n",
       "\n",
       "    .dataframe tbody tr th {\n",
       "        vertical-align: top;\n",
       "    }\n",
       "\n",
       "    .dataframe thead th {\n",
       "        text-align: right;\n",
       "    }\n",
       "</style>\n",
       "<table border=\"1\" class=\"dataframe\">\n",
       "  <thead>\n",
       "    <tr style=\"text-align: right;\">\n",
       "      <th></th>\n",
       "      <th>date</th>\n",
       "      <th>type</th>\n",
       "      <th>event</th>\n",
       "      <th>amount</th>\n",
       "      <th>quarter</th>\n",
       "    </tr>\n",
       "    <tr>\n",
       "      <th>id</th>\n",
       "      <th></th>\n",
       "      <th></th>\n",
       "      <th></th>\n",
       "      <th></th>\n",
       "      <th></th>\n",
       "    </tr>\n",
       "  </thead>\n",
       "  <tbody>\n",
       "    <tr>\n",
       "      <th>58</th>\n",
       "      <td>179</td>\n",
       "      <td>Single</td>\n",
       "      <td>B10K</td>\n",
       "      <td>13</td>\n",
       "      <td>2</td>\n",
       "    </tr>\n",
       "    <tr>\n",
       "      <th>19</th>\n",
       "      <td>131</td>\n",
       "      <td>Repeated</td>\n",
       "      <td>N</td>\n",
       "      <td>5</td>\n",
       "      <td>2</td>\n",
       "    </tr>\n",
       "    <tr>\n",
       "      <th>20</th>\n",
       "      <td>165</td>\n",
       "      <td>Repeated</td>\n",
       "      <td>B10K</td>\n",
       "      <td>15</td>\n",
       "      <td>2</td>\n",
       "    </tr>\n",
       "    <tr>\n",
       "      <th>35</th>\n",
       "      <td>340</td>\n",
       "      <td>Single</td>\n",
       "      <td>B10K</td>\n",
       "      <td>2</td>\n",
       "      <td>4</td>\n",
       "    </tr>\n",
       "    <tr>\n",
       "      <th>37</th>\n",
       "      <td>263</td>\n",
       "      <td>Single</td>\n",
       "      <td>B10K</td>\n",
       "      <td>2</td>\n",
       "      <td>3</td>\n",
       "    </tr>\n",
       "  </tbody>\n",
       "</table>\n",
       "</div>"
      ],
      "text/plain": [
       "    date      type event  amount  quarter\n",
       "id                                       \n",
       "58   179    Single  B10K      13        2\n",
       "19   131  Repeated     N       5        2\n",
       "20   165  Repeated  B10K      15        2\n",
       "35   340    Single  B10K       2        4\n",
       "37   263    Single  B10K       2        3"
      ]
     },
     "execution_count": 38,
     "metadata": {},
     "output_type": "execute_result"
    }
   ],
   "source": [
    "import pandas as pd\n",
    "\n",
    "donor_data = pd.read_csv(\"donor_data.csv\")\n",
    "\n",
    "ids = []\n",
    "dates = []\n",
    "types = []\n",
    "events = []\n",
    "amounts = []\n",
    "quarters = [] # new feature created for association analysis\n",
    "\n",
    "def which_quarter(x):\n",
    "    if x <= 91:\n",
    "        return 1\n",
    "    elif 91 < x and x <= 182:\n",
    "        return 2\n",
    "    elif 182 < x and x <= 273:\n",
    "        return 3\n",
    "    else:\n",
    "        return 4\n",
    "\n",
    "for key, value in donor_data.iterrows():\n",
    "    donation = value[0]\n",
    "    \n",
    "    donor_id = donation.split(\"[\")[0].replace(\" \", \"\")\n",
    "    date = donation.split(\"[\")[1].split(\",\")[0].replace(\" \", \"\")\n",
    "    donation_type = donation.split(\"[\")[1].split(\",\")[1].replace(\" \", \"\")\n",
    "    event = donation.split(\"[\")[1].split(\",\")[2][1:].replace(\" \", \"\")\n",
    "    amount = donation.split(\"[\")[1].split(\",\")[3][:-1].replace(\" \", \"\")\n",
    "    quarter = which_quarter(int(date))\n",
    "    \n",
    "    ids.append(donor_id)\n",
    "    dates.append(date)\n",
    "    types.append(donation_type)\n",
    "    events.append(event)\n",
    "    amounts.append(amount)\n",
    "    quarters.append(quarter)\n",
    "    \n",
    "donor_data = pd.DataFrame({\"id\" : ids, \"date\" : dates, \"type\" : types,\n",
    "                           \"event\" : events, \"amount\" : amounts,\n",
    "                           \"quarter\" : quarters})\n",
    "\n",
    "donor_data[[\"id\", \"date\", \"amount\"]] = donor_data[[\"id\", \"date\", \"amount\"]].apply(pd.to_numeric)\n",
    "donor_data.set_index(\"id\", inplace=True)\n",
    "\n",
    "donor_data.head()\n",
    "    "
   ]
  },
  {
   "cell_type": "markdown",
   "metadata": {},
   "source": [
    "## Exploratory Analysis\n",
    "\n",
    "We'll take each variable and see what we can find.\n",
    "\n",
    "### Date\n",
    "To simplify things the dates run from 1 to 365 representing the days in a normal calendar year. Let's have a look at donation frequency."
   ]
  },
  {
   "cell_type": "code",
   "execution_count": 39,
   "metadata": {},
   "outputs": [
    {
     "data": {
      "text/plain": [
       "Text(0.5, 1.0, 'Donation Frequency Histogram')"
      ]
     },
     "execution_count": 39,
     "metadata": {},
     "output_type": "execute_result"
    },
    {
     "data": {
      "image/png": "[encoded data removed]",
      "text/plain": [
       "<Figure size 792x288 with 1 Axes>"
      ]
     },
     "metadata": {},
     "output_type": "display_data"
    }
   ],
   "source": [
    "import seaborn as sns\n",
    "\n",
    "# change figure size\n",
    "sns.set(rc={'figure.figsize':(11, 4)})\n",
    "\n",
    "donor_data[\"date\"].hist(bins=20).set_title(\"Donation Frequency Histogram\")"
   ]
  },
  {
   "cell_type": "markdown",
   "metadata": {},
   "source": [
    "Things to note:\n",
    "\n",
    "- slow start to the year\n",
    "- peak number of donations around 140 days, 200 days, 300 days\n",
    "\n",
    "Later we'll look at events to see if that can explain the patterns we see here.\n",
    "\n",
    "Next let's look at the amounts data."
   ]
  },
  {
   "cell_type": "markdown",
   "metadata": {},
   "source": [
    "### Amounts"
   ]
  },
  {
   "cell_type": "code",
   "execution_count": 28,
   "metadata": {},
   "outputs": [
    {
     "data": {
      "text/plain": [
       "Text(0.5, 1.0, 'Amounts Histogram (Legacy Donations and >= 50 Removed)')"
      ]
     },
     "execution_count": 28,
     "metadata": {},
     "output_type": "execute_result"
    },
    {
     "data": {
      "image/png": "[encoded data removed]",
      "text/plain": [
       "<Figure size 720x720 with 3 Axes>"
      ]
     },
     "metadata": {},
     "output_type": "display_data"
    }
   ],
   "source": [
    "import matplotlib.pyplot as plt\n",
    "\n",
    "fig, axs = plt.subplots(3, figsize=(10, 10))\n",
    "\n",
    "fig.tight_layout()\n",
    "\n",
    "donor_data[\"amount\"].hist(ax=axs[0])\n",
    "\n",
    "donor_data[donor_data[\"type\"] != \"Legacy\"][\"amount\"].hist(ax=axs[1])\n",
    "\n",
    "donor_data[(donor_data[\"type\"] != \"Legacy\") &\n",
    "           (donor_data[\"amount\"] < 50)][\"amount\"].hist(ax=axs[2])\n",
    "\n",
    "axs[0].set_title(\"Amounts Histogram\")\n",
    "axs[1].set_title(\"Amounts Histogram (Legacy Donations Removed)\")\n",
    "axs[2].set_title(\"Amounts Histogram (Legacy Donations and >= 50 Removed)\")"
   ]
  },
  {
   "cell_type": "markdown",
   "metadata": {},
   "source": [
    "\n",
    "\n",
    "### Events\n",
    "\n",
    "First let's find out what events there are and when they occur."
   ]
  },
  {
   "cell_type": "code",
   "execution_count": 2,
   "metadata": {},
   "outputs": [
    {
     "ename": "NameError",
     "evalue": "name 'donor_data' is not defined",
     "output_type": "error",
     "traceback": [
      "\u001b[0;31m---------------------------------------------------------------------------\u001b[0m",
      "\u001b[0;31mNameError\u001b[0m                                 Traceback (most recent call last)",
      "\u001b[0;32m<ipython-input-2-91f142f27971>\u001b[0m in \u001b[0;36m<module>\u001b[0;34m\u001b[0m\n\u001b[0;32m----> 1\u001b[0;31m \u001b[0mdonor_data\u001b[0m\u001b[0;34m[\u001b[0m\u001b[0;34m\"event\"\u001b[0m\u001b[0;34m]\u001b[0m\u001b[0;34m.\u001b[0m\u001b[0munique\u001b[0m\u001b[0;34m(\u001b[0m\u001b[0;34m)\u001b[0m\u001b[0;34m\u001b[0m\u001b[0;34m\u001b[0m\u001b[0m\n\u001b[0m",
      "\u001b[0;31mNameError\u001b[0m: name 'donor_data' is not defined"
     ]
    }
   ],
   "source": [
    "donor_data[\"event\"].unique()"
   ]
  },
  {
   "cell_type": "markdown",
   "metadata": {},
   "source": [
    "These correspond respectively to Bristol 10k, No event, Christmas Meal and Summer Fete"
   ]
  },
  {
   "cell_type": "code",
   "execution_count": 7,
   "metadata": {},
   "outputs": [
    {
     "data": {
      "text/plain": [
       "<matplotlib.axes._subplots.AxesSubplot at 0x122c07590>"
      ]
     },
     "execution_count": 7,
     "metadata": {},
     "output_type": "execute_result"
    },
    {
     "data": {
      "image/png": "[encoded data removed]",
      "text/plain": [
       "<Figure size 792x288 with 1 Axes>"
      ]
     },
     "metadata": {},
     "output_type": "display_data"
    }
   ],
   "source": [
    "donor_data[\"event\"].value_counts().plot(kind='bar')"
   ]
  },
  {
   "cell_type": "code",
   "execution_count": 4,
   "metadata": {},
   "outputs": [
    {
     "data": {
      "text/plain": [
       "<matplotlib.axes._subplots.AxesSubplot at 0x1228453d0>"
      ]
     },
     "execution_count": 4,
     "metadata": {},
     "output_type": "execute_result"
    },
    {
     "data": {
      "image/png": "[encoded data removed]",
      "text/plain": [
       "<Figure size 792x288 with 1 Axes>"
      ]
     },
     "metadata": {},
     "output_type": "display_data"
    }
   ],
   "source": [
    "sns.histplot(donor_data, x=\"date\", hue=\"event\", multiple=\"stack\")"
   ]
  },
  {
   "cell_type": "markdown",
   "metadata": {},
   "source": [
    "### Type"
   ]
  },
  {
   "cell_type": "code",
   "execution_count": 30,
   "metadata": {},
   "outputs": [
    {
     "data": {
      "text/plain": [
       "<matplotlib.axes._subplots.AxesSubplot at 0x1247e4e90>"
      ]
     },
     "execution_count": 30,
     "metadata": {},
     "output_type": "execute_result"
    },
    {
     "data": {
      "image/png": "[encoded data removed]",
      "text/plain": [
       "<Figure size 792x288 with 1 Axes>"
      ]
     },
     "metadata": {},
     "output_type": "display_data"
    }
   ],
   "source": [
    "donor_data[\"type\"].value_counts().plot(kind='bar')"
   ]
  },
  {
   "cell_type": "markdown",
   "metadata": {},
   "source": [
    "Repeated donations are good. We want to find associations between features and repeated donations."
   ]
  },
  {
   "cell_type": "code",
   "execution_count": 35,
   "metadata": {},
   "outputs": [
    {
     "name": "stdout",
     "output_type": "stream",
     "text": [
      "---------   quarter   -------------\n",
      "(6.872968106421124, 0.33275507047433134, 6, array([[ 1.08938547,  3.84916201,  3.77653631,  4.2849162 ],\n",
      "       [ 5.11173184, 18.06145251, 17.72067039, 20.10614525],\n",
      "       [ 8.79888268, 31.08938547, 30.5027933 , 34.60893855]]))\n",
      "---------   event   -------------\n",
      "(58.40582516910013, 9.481557679345336e-11, 6, array([[ 4.86592179,  1.16201117,  4.2122905 ,  2.75977654],\n",
      "       [22.83240223,  5.45251397, 19.76536313, 12.94972067],\n",
      "       [39.30167598,  9.38547486, 34.02234637, 22.29050279]]))\n"
     ]
    }
   ],
   "source": [
    "from scipy.stats import chi2_contingency\n",
    "\n",
    "explanatory_features = [\"quarter\", \"event\"] # could also include amount buckets\n",
    "\n",
    "for feature in explanatory_features:\n",
    "    obs = pd.crosstab(donor_data[\"type\"], donor_data[feature])\n",
    "    print(\"---------  \", feature, \"  -------------\")\n",
    "    print(chi2_contingency(obs))"
   ]
  },
  {
   "cell_type": "code",
   "execution_count": 36,
   "metadata": {},
   "outputs": [
    {
     "data": {
      "text/html": [
       "<div>\n",
       "<style scoped>\n",
       "    .dataframe tbody tr th:only-of-type {\n",
       "        vertical-align: middle;\n",
       "    }\n",
       "\n",
       "    .dataframe tbody tr th {\n",
       "        vertical-align: top;\n",
       "    }\n",
       "\n",
       "    .dataframe thead th {\n",
       "        text-align: right;\n",
       "    }\n",
       "</style>\n",
       "<table border=\"1\" class=\"dataframe\">\n",
       "  <thead>\n",
       "    <tr style=\"text-align: right;\">\n",
       "      <th>event</th>\n",
       "      <th>B10K</th>\n",
       "      <th>C</th>\n",
       "      <th>N</th>\n",
       "      <th>S</th>\n",
       "    </tr>\n",
       "    <tr>\n",
       "      <th>type</th>\n",
       "      <th></th>\n",
       "      <th></th>\n",
       "      <th></th>\n",
       "      <th></th>\n",
       "    </tr>\n",
       "  </thead>\n",
       "  <tbody>\n",
       "    <tr>\n",
       "      <th>Legacy</th>\n",
       "      <td>1</td>\n",
       "      <td>6</td>\n",
       "      <td>4</td>\n",
       "      <td>2</td>\n",
       "    </tr>\n",
       "    <tr>\n",
       "      <th>Repeated</th>\n",
       "      <td>8</td>\n",
       "      <td>3</td>\n",
       "      <td>28</td>\n",
       "      <td>22</td>\n",
       "    </tr>\n",
       "    <tr>\n",
       "      <th>Single</th>\n",
       "      <td>58</td>\n",
       "      <td>7</td>\n",
       "      <td>26</td>\n",
       "      <td>14</td>\n",
       "    </tr>\n",
       "  </tbody>\n",
       "</table>\n",
       "</div>"
      ],
      "text/plain": [
       "event     B10K  C   N   S\n",
       "type                     \n",
       "Legacy       1  6   4   2\n",
       "Repeated     8  3  28  22\n",
       "Single      58  7  26  14"
      ]
     },
     "execution_count": 36,
     "metadata": {},
     "output_type": "execute_result"
    }
   ],
   "source": [
    "pd.crosstab(donor_data[\"type\"], donor_data[\"event\"])"
   ]
  }
 ],
 "metadata": {
  "kernelspec": {
   "display_name": "Python 3",
   "language": "python",
   "name": "python3"
  },
  "language_info": {
   "codemirror_mode": {
    "name": "ipython",
    "version": 3
   },
   "file_extension": ".py",
   "mimetype": "text/x-python",
   "name": "python",
   "nbconvert_exporter": "python",
   "pygments_lexer": "ipython3",
   "version": "3.7.5"
  }
 },
 "nbformat": 4,
 "nbformat_minor": 4
}
