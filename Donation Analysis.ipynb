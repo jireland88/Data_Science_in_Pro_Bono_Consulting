{
 "cells": [
  {
   "cell_type": "markdown",
   "metadata": {},
   "source": [
    "# Donation Analysis\n",
    "\n",
    "Wellcome to this Jupyter Notebook. Below you will see code that will perform some\n",
    "\n",
    "- Exploratory Analysis\n",
    "- Data Visualisation\n",
    "- Machine Learning\n",
    "\n",
    "on some (fake) donation data. Important - as data is made up it is quite weird.\n",
    "\n",
    "We were going to do an example of network analysis but decided against it as it uses additional tools outside of jupyter notebook.\n",
    "\n",
    "You can run each cell by selecting it and clicking run in the toolbar above. Cells sometimes need to be run in order.\n",
    "\n",
    "Below is a cell where the data is imported and then manipulated into a Pandas Dataframe from which we can do some analysis."
   ]
  },
  {
   "cell_type": "code",
   "execution_count": 1,
   "metadata": {},
   "outputs": [
    {
     "data": {
      "text/html": [
       "<div>\n",
       "<style scoped>\n",
       "    .dataframe tbody tr th:only-of-type {\n",
       "        vertical-align: middle;\n",
       "    }\n",
       "\n",
       "    .dataframe tbody tr th {\n",
       "        vertical-align: top;\n",
       "    }\n",
       "\n",
       "    .dataframe thead th {\n",
       "        text-align: right;\n",
       "    }\n",
       "</style>\n",
       "<table border=\"1\" class=\"dataframe\">\n",
       "  <thead>\n",
       "    <tr style=\"text-align: right;\">\n",
       "      <th></th>\n",
       "      <th>date</th>\n",
       "      <th>type</th>\n",
       "      <th>event</th>\n",
       "      <th>amount</th>\n",
       "      <th>quarter</th>\n",
       "    </tr>\n",
       "    <tr>\n",
       "      <th>id</th>\n",
       "      <th></th>\n",
       "      <th></th>\n",
       "      <th></th>\n",
       "      <th></th>\n",
       "      <th></th>\n",
       "    </tr>\n",
       "  </thead>\n",
       "  <tbody>\n",
       "    <tr>\n",
       "      <th>58</th>\n",
       "      <td>179</td>\n",
       "      <td>Single</td>\n",
       "      <td>B10K</td>\n",
       "      <td>13</td>\n",
       "      <td>second</td>\n",
       "    </tr>\n",
       "    <tr>\n",
       "      <th>19</th>\n",
       "      <td>131</td>\n",
       "      <td>Repeated</td>\n",
       "      <td>N</td>\n",
       "      <td>5</td>\n",
       "      <td>second</td>\n",
       "    </tr>\n",
       "    <tr>\n",
       "      <th>20</th>\n",
       "      <td>165</td>\n",
       "      <td>Repeated</td>\n",
       "      <td>B10K</td>\n",
       "      <td>15</td>\n",
       "      <td>second</td>\n",
       "    </tr>\n",
       "    <tr>\n",
       "      <th>35</th>\n",
       "      <td>340</td>\n",
       "      <td>Single</td>\n",
       "      <td>B10K</td>\n",
       "      <td>2</td>\n",
       "      <td>fourth</td>\n",
       "    </tr>\n",
       "    <tr>\n",
       "      <th>37</th>\n",
       "      <td>263</td>\n",
       "      <td>Single</td>\n",
       "      <td>B10K</td>\n",
       "      <td>2</td>\n",
       "      <td>third</td>\n",
       "    </tr>\n",
       "  </tbody>\n",
       "</table>\n",
       "</div>"
      ],
      "text/plain": [
       "    date      type event  amount quarter\n",
       "id                                      \n",
       "58   179    Single  B10K      13  second\n",
       "19   131  Repeated     N       5  second\n",
       "20   165  Repeated  B10K      15  second\n",
       "35   340    Single  B10K       2  fourth\n",
       "37   263    Single  B10K       2   third"
      ]
     },
     "execution_count": 1,
     "metadata": {},
     "output_type": "execute_result"
    }
   ],
   "source": [
    "import pandas as pd\n",
    "\n",
    "donor_data = pd.read_csv(\"donor_data.csv\")\n",
    "\n",
    "ids = []\n",
    "dates = []\n",
    "types = []\n",
    "events = []\n",
    "amounts = []\n",
    "quarters = [] # new feature created for association analysis\n",
    "\n",
    "def which_quarter(x):\n",
    "    if x <= 91:\n",
    "        return \"first\"\n",
    "    elif 91 < x and x <= 182:\n",
    "        return \"second\"\n",
    "    elif 182 < x and x <= 273:\n",
    "        return \"third\"\n",
    "    else:\n",
    "        return \"fourth\"\n",
    "\n",
    "for key, value in donor_data.iterrows():\n",
    "    donation = value[0]\n",
    "    \n",
    "    donor_id = donation.split(\"[\")[0].replace(\" \", \"\")\n",
    "    date = donation.split(\"[\")[1].split(\",\")[0].replace(\" \", \"\")\n",
    "    donation_type = donation.split(\"[\")[1].split(\",\")[1].replace(\" \", \"\")\n",
    "    event = donation.split(\"[\")[1].split(\",\")[2][1:].replace(\" \", \"\")\n",
    "    amount = donation.split(\"[\")[1].split(\",\")[3][:-1].replace(\" \", \"\")\n",
    "    quarter = which_quarter(int(date))\n",
    "    \n",
    "    ids.append(donor_id)\n",
    "    dates.append(date)\n",
    "    types.append(donation_type)\n",
    "    events.append(event)\n",
    "    amounts.append(amount)\n",
    "    quarters.append(quarter)\n",
    "    \n",
    "donor_data = pd.DataFrame({\"id\" : ids, \"date\" : dates, \"type\" : types,\n",
    "                           \"event\" : events, \"amount\" : amounts,\n",
    "                           \"quarter\" : quarters})\n",
    "\n",
    "donor_data[[\"id\", \"date\", \"amount\"]] = donor_data[[\"id\", \"date\", \"amount\"]].apply(pd.to_numeric)\n",
    "donor_data.set_index(\"id\", inplace=True)\n",
    "\n",
    "donor_data.head()\n",
    "    "
   ]
  },
  {
   "cell_type": "markdown",
   "metadata": {},
   "source": [
    "## Exploratory Analysis\n",
    "\n",
    "We'll take each variable and see what we can find.\n",
    "\n",
    "### Date\n",
    "To simplify things the dates run from 1 to 365 representing the days in a normal calendar year. Let's have a look at donation frequency."
   ]
  },
  {
   "cell_type": "code",
   "execution_count": 50,
   "metadata": {},
   "outputs": [
    {
     "data": {
      "text/plain": [
       "[Text(0, 0.5, 'Number of Donations'),\n",
       " Text(0.5, 0, 'Day'),\n",
       " Text(0.5, 1.0, 'Donation Frequency Histogram')]"
      ]
     },
     "execution_count": 50,
     "metadata": {},
     "output_type": "execute_result"
    },
    {
     "data": {
      "image/png": "[encoded data removed]",
      "text/plain": [
       "<Figure size 792x288 with 1 Axes>"
      ]
     },
     "metadata": {},
     "output_type": "display_data"
    }
   ],
   "source": [
    "import seaborn as sns\n",
    "\n",
    "# change figure size\n",
    "sns.set(rc={'figure.figsize':(11, 4)})\n",
    "\n",
    "ax = donor_data[\"date\"].hist(bins=20)\n",
    "ax.set(title = \"Donation Frequency Histogram\", \n",
    "       xlabel = \"Day\", ylabel=\"Number of Donations\")\n"
   ]
  },
  {
   "cell_type": "markdown",
   "metadata": {},
   "source": [
    "Things to note:\n",
    "\n",
    "- slow start to the year\n",
    "- peak number of donations around 140 days, 200 days, 300 days\n",
    "\n",
    "Later we'll look at events to see if that can explain the patterns we see here.\n",
    "\n",
    "Let's have a look at the donations not linked to any event (also not legacy)."
   ]
  },
  {
   "cell_type": "code",
   "execution_count": 51,
   "metadata": {},
   "outputs": [
    {
     "data": {
      "text/plain": [
       "[Text(0, 0.5, 'Number of Donations'),\n",
       " Text(0.5, 0, 'Day'),\n",
       " Text(0.5, 1.0, 'Donation Frequency Histogram (No Event, Legacy Removed)')]"
      ]
     },
     "execution_count": 51,
     "metadata": {},
     "output_type": "execute_result"
    },
    {
     "data": {
      "image/png": "[encoded data removed]",
      "text/plain": [
       "<Figure size 792x288 with 1 Axes>"
      ]
     },
     "metadata": {},
     "output_type": "display_data"
    }
   ],
   "source": [
    "title = \"Donation Frequency Histogram (No Event, Legacy Removed)\"\n",
    "\n",
    "ax = donor_data[(donor_data[\"event\"] == \"N\") & \n",
    "                (donor_data[\"type\"] != \"Legacy\")][\"date\"].hist(bins=20)\n",
    "\n",
    "ax.set(title = title, xlabel = \"Day\", ylabel = \"Number of Donations\")"
   ]
  },
  {
   "cell_type": "markdown",
   "metadata": {},
   "source": [
    "This is much more uniform however still peaks - suggests people may make donations due to attending events but not always specify the event when making the donation.\n",
    "\n",
    "Lets look at the amounts data.\n",
    "\n",
    "### Amounts"
   ]
  },
  {
   "cell_type": "code",
   "execution_count": 59,
   "metadata": {},
   "outputs": [
    {
     "data": {
      "image/png": "[encoded data removed]",
      "text/plain": [
       "<Figure size 792x720 with 3 Axes>"
      ]
     },
     "metadata": {},
     "output_type": "display_data"
    }
   ],
   "source": [
    "import matplotlib.pyplot as plt\n",
    "\n",
    "fig, axs = plt.subplots(3, figsize=(11, 10))\n",
    "\n",
    "fig.tight_layout()\n",
    "\n",
    "donor_data[\"amount\"].hist(ax=axs[0])\n",
    "\n",
    "donor_data[donor_data[\"type\"] != \"Legacy\"][\"amount\"].hist(ax=axs[1])\n",
    "\n",
    "donor_data[(donor_data[\"type\"] != \"Legacy\") &\n",
    "           (donor_data[\"amount\"] < 50)][\"amount\"].hist(ax=axs[2])\n",
    "\n",
    "axs[0].set(title = \"Amounts Histogram\", \n",
    "           xlabel = \"Amount (£)\", ylabel = \"Frequency\")\n",
    "axs[1].set(title = \"Amounts Histogram (Legacy Donations Removed)\", \n",
    "           xlabel = \"Amount (£)\", ylabel = \"Frequency\")\n",
    "axs[2].set(title = \"Amounts Histogram (Legacy Donations and >= 50 Removed)\", \n",
    "           xlabel = \"Amount (£)\", ylabel = \"Frequency\")\n",
    "\n",
    "fig.subplots_adjust(hspace=0.3)"
   ]
  },
  {
   "cell_type": "markdown",
   "metadata": {},
   "source": [
    "Donation amounts data can be tricky. It's massively skewed towards smaller donations. Additionally legacy donations can screw with results as they are so large. It's common to remove them when conducting further analysis as they work in very different ways to other donations.\n",
    "\n",
    "Let's check for an exponential distribution then create sensible buckets in case its necessary for further analysis."
   ]
  },
  {
   "cell_type": "code",
   "execution_count": 5,
   "metadata": {},
   "outputs": [
    {
     "data": {
      "image/png": "[encoded data removed]",
      "text/plain": [
       "<Figure size 792x288 with 1 Axes>"
      ]
     },
     "metadata": {},
     "output_type": "display_data"
    }
   ],
   "source": [
    "import scipy.stats as stats\n",
    "\n",
    "amounts_non_legacy = donor_data[donor_data[\"type\"] != \"Legacy\"][\"amount\"]\n",
    "\n",
    "plot = stats.probplot(amounts_non_legacy, dist=stats.expon, plot=plt)"
   ]
  },
  {
   "cell_type": "markdown",
   "metadata": {},
   "source": [
    ":( well exponential doesn't look like a good fit - you'll have to take my word that it normally is.\n",
    "\n",
    "Anyway for the buckets lets do something like this:\n",
    "\n",
    "0-10\n",
    "10-100\n",
    "100-1000\n",
    "1000-"
   ]
  },
  {
   "cell_type": "code",
   "execution_count": 6,
   "metadata": {},
   "outputs": [
    {
     "data": {
      "text/html": [
       "<div>\n",
       "<style scoped>\n",
       "    .dataframe tbody tr th:only-of-type {\n",
       "        vertical-align: middle;\n",
       "    }\n",
       "\n",
       "    .dataframe tbody tr th {\n",
       "        vertical-align: top;\n",
       "    }\n",
       "\n",
       "    .dataframe thead th {\n",
       "        text-align: right;\n",
       "    }\n",
       "</style>\n",
       "<table border=\"1\" class=\"dataframe\">\n",
       "  <thead>\n",
       "    <tr style=\"text-align: right;\">\n",
       "      <th></th>\n",
       "      <th>date</th>\n",
       "      <th>type</th>\n",
       "      <th>event</th>\n",
       "      <th>amount</th>\n",
       "      <th>quarter</th>\n",
       "      <th>size</th>\n",
       "    </tr>\n",
       "    <tr>\n",
       "      <th>id</th>\n",
       "      <th></th>\n",
       "      <th></th>\n",
       "      <th></th>\n",
       "      <th></th>\n",
       "      <th></th>\n",
       "      <th></th>\n",
       "    </tr>\n",
       "  </thead>\n",
       "  <tbody>\n",
       "    <tr>\n",
       "      <th>58</th>\n",
       "      <td>179</td>\n",
       "      <td>Single</td>\n",
       "      <td>B10K</td>\n",
       "      <td>13</td>\n",
       "      <td>second</td>\n",
       "      <td>medium</td>\n",
       "    </tr>\n",
       "    <tr>\n",
       "      <th>19</th>\n",
       "      <td>131</td>\n",
       "      <td>Repeated</td>\n",
       "      <td>N</td>\n",
       "      <td>5</td>\n",
       "      <td>second</td>\n",
       "      <td>small</td>\n",
       "    </tr>\n",
       "    <tr>\n",
       "      <th>20</th>\n",
       "      <td>165</td>\n",
       "      <td>Repeated</td>\n",
       "      <td>B10K</td>\n",
       "      <td>15</td>\n",
       "      <td>second</td>\n",
       "      <td>medium</td>\n",
       "    </tr>\n",
       "    <tr>\n",
       "      <th>35</th>\n",
       "      <td>340</td>\n",
       "      <td>Single</td>\n",
       "      <td>B10K</td>\n",
       "      <td>2</td>\n",
       "      <td>fourth</td>\n",
       "      <td>small</td>\n",
       "    </tr>\n",
       "    <tr>\n",
       "      <th>37</th>\n",
       "      <td>263</td>\n",
       "      <td>Single</td>\n",
       "      <td>B10K</td>\n",
       "      <td>2</td>\n",
       "      <td>third</td>\n",
       "      <td>small</td>\n",
       "    </tr>\n",
       "  </tbody>\n",
       "</table>\n",
       "</div>"
      ],
      "text/plain": [
       "    date      type event  amount quarter    size\n",
       "id                                              \n",
       "58   179    Single  B10K      13  second  medium\n",
       "19   131  Repeated     N       5  second   small\n",
       "20   165  Repeated  B10K      15  second  medium\n",
       "35   340    Single  B10K       2  fourth   small\n",
       "37   263    Single  B10K       2   third   small"
      ]
     },
     "execution_count": 6,
     "metadata": {},
     "output_type": "execute_result"
    }
   ],
   "source": [
    "sizes = []\n",
    "\n",
    "for amount in donor_data[\"amount\"]:\n",
    "    if amount < 10:\n",
    "        sizes.append(\"small\")\n",
    "    elif (amount >= 10) & (amount < 100):\n",
    "        sizes.append(\"medium\")\n",
    "    elif (amount >= 100) & (amount < 1000):\n",
    "        sizes.append(\"large\")\n",
    "    else:\n",
    "        sizes.append(\"huge\")\n",
    "        \n",
    "donor_data[\"size\"] = sizes\n",
    "\n",
    "donor_data.head()"
   ]
  },
  {
   "cell_type": "markdown",
   "metadata": {},
   "source": [
    "### Events\n",
    "\n",
    "First let's find out what events there are and when they occur."
   ]
  },
  {
   "cell_type": "code",
   "execution_count": 7,
   "metadata": {},
   "outputs": [
    {
     "data": {
      "text/plain": [
       "array(['B10K', 'N', 'C', 'S'], dtype=object)"
      ]
     },
     "execution_count": 7,
     "metadata": {},
     "output_type": "execute_result"
    }
   ],
   "source": [
    "donor_data[\"event\"].unique()"
   ]
  },
  {
   "cell_type": "markdown",
   "metadata": {},
   "source": [
    "These correspond respectively to Bristol 10k, No event, Christmas Meal and Summer Fete"
   ]
  },
  {
   "cell_type": "code",
   "execution_count": 61,
   "metadata": {},
   "outputs": [
    {
     "data": {
      "text/plain": [
       "Text(0, 0.5, 'Frequency')"
      ]
     },
     "execution_count": 61,
     "metadata": {},
     "output_type": "execute_result"
    },
    {
     "data": {
      "image/png": "[encoded data removed]",
      "text/plain": [
       "<Figure size 792x288 with 1 Axes>"
      ]
     },
     "metadata": {},
     "output_type": "display_data"
    }
   ],
   "source": [
    "donor_data[\"event\"].value_counts().plot(kind='bar').set_ylabel(\"Frequency\")"
   ]
  },
  {
   "cell_type": "code",
   "execution_count": 9,
   "metadata": {},
   "outputs": [
    {
     "data": {
      "text/plain": [
       "<matplotlib.axes._subplots.AxesSubplot at 0x11bcf3110>"
      ]
     },
     "execution_count": 9,
     "metadata": {},
     "output_type": "execute_result"
    },
    {
     "data": {
      "image/png": "[encoded data removed]",
      "text/plain": [
       "<Figure size 792x288 with 1 Axes>"
      ]
     },
     "metadata": {},
     "output_type": "display_data"
    }
   ],
   "source": [
    "sns.histplot(donor_data, x=\"date\", hue=\"event\", multiple=\"stack\")"
   ]
  },
  {
   "cell_type": "markdown",
   "metadata": {},
   "source": [
    "From the above graphs we see B10K generates the most donations and seems to occur around day 150. We can also infer that the summer fete occurs around day 200 and the Christmas meal around day 300.\n",
    "\n",
    "### Type"
   ]
  },
  {
   "cell_type": "code",
   "execution_count": 62,
   "metadata": {},
   "outputs": [
    {
     "data": {
      "text/plain": [
       "Text(0, 0.5, 'Frequency')"
      ]
     },
     "execution_count": 62,
     "metadata": {},
     "output_type": "execute_result"
    },
    {
     "data": {
      "image/png": "[encoded data removed]",
      "text/plain": [
       "<Figure size 792x288 with 1 Axes>"
      ]
     },
     "metadata": {},
     "output_type": "display_data"
    }
   ],
   "source": [
    "donor_data[\"type\"].value_counts().plot(kind='bar').set_ylabel(\"Frequency\")"
   ]
  },
  {
   "cell_type": "markdown",
   "metadata": {},
   "source": [
    "Repeated donations are good. We want to find associations between features and repeated donations."
   ]
  },
  {
   "cell_type": "code",
   "execution_count": 11,
   "metadata": {},
   "outputs": [
    {
     "name": "stdout",
     "output_type": "stream",
     "text": [
      "quarter vs type:    test-statistic = 6.87    p-value = 0.33\n",
      "event vs type:    test-statistic = 58.41    p-value = 0.00\n",
      "size vs type:    test-statistic = 187.76    p-value = 0.00\n"
     ]
    }
   ],
   "source": [
    "from scipy.stats import chi2_contingency\n",
    "\n",
    "explanatory_features = [\"quarter\", \"event\", \"size\"]\n",
    "\n",
    "for feature in explanatory_features:\n",
    "    obs = pd.crosstab(donor_data[\"type\"], donor_data[feature])\n",
    "    chi2 = chi2_contingency(obs)\n",
    "    \n",
    "    print(feature + \" vs type:    test-statistic = {0:.2f}\".format(chi2[0]) + \n",
    "          \"    p-value = {0:.2f}\".format(chi2[1]))"
   ]
  },
  {
   "cell_type": "markdown",
   "metadata": {},
   "source": [
    "So there isn't significant association between quarter and type but there is between event and type. Let's take a closer look at the contingency table."
   ]
  },
  {
   "cell_type": "code",
   "execution_count": 12,
   "metadata": {},
   "outputs": [
    {
     "data": {
      "text/html": [
       "<div>\n",
       "<style scoped>\n",
       "    .dataframe tbody tr th:only-of-type {\n",
       "        vertical-align: middle;\n",
       "    }\n",
       "\n",
       "    .dataframe tbody tr th {\n",
       "        vertical-align: top;\n",
       "    }\n",
       "\n",
       "    .dataframe thead th {\n",
       "        text-align: right;\n",
       "    }\n",
       "</style>\n",
       "<table border=\"1\" class=\"dataframe\">\n",
       "  <thead>\n",
       "    <tr style=\"text-align: right;\">\n",
       "      <th>event</th>\n",
       "      <th>B10K</th>\n",
       "      <th>C</th>\n",
       "      <th>N</th>\n",
       "      <th>S</th>\n",
       "    </tr>\n",
       "    <tr>\n",
       "      <th>type</th>\n",
       "      <th></th>\n",
       "      <th></th>\n",
       "      <th></th>\n",
       "      <th></th>\n",
       "    </tr>\n",
       "  </thead>\n",
       "  <tbody>\n",
       "    <tr>\n",
       "      <th>Legacy</th>\n",
       "      <td>1</td>\n",
       "      <td>6</td>\n",
       "      <td>4</td>\n",
       "      <td>2</td>\n",
       "    </tr>\n",
       "    <tr>\n",
       "      <th>Repeated</th>\n",
       "      <td>8</td>\n",
       "      <td>3</td>\n",
       "      <td>28</td>\n",
       "      <td>22</td>\n",
       "    </tr>\n",
       "    <tr>\n",
       "      <th>Single</th>\n",
       "      <td>58</td>\n",
       "      <td>7</td>\n",
       "      <td>26</td>\n",
       "      <td>14</td>\n",
       "    </tr>\n",
       "  </tbody>\n",
       "</table>\n",
       "</div>"
      ],
      "text/plain": [
       "event     B10K  C   N   S\n",
       "type                     \n",
       "Legacy       1  6   4   2\n",
       "Repeated     8  3  28  22\n",
       "Single      58  7  26  14"
      ]
     },
     "execution_count": 12,
     "metadata": {},
     "output_type": "execute_result"
    }
   ],
   "source": [
    "pd.crosstab(donor_data[\"type\"], donor_data[\"event\"])"
   ]
  },
  {
   "cell_type": "markdown",
   "metadata": {},
   "source": [
    "Looking at the contingency table we see most repeated donations come from no donations and the summer fete is the best generator of repeated donations.\n",
    "\n",
    "Let's move on to something more complicated - machine learning.\n",
    "\n",
    "## Machine Learning (Classifcation with Logistic Regression)\n",
    "\n",
    "We're gonna look at predicting whether a donation is repeated or not, then analyse the coefficients to see if we can discover what influences this.\n",
    "\n",
    "Here's the process:\n",
    "\n",
    "- Remove legacy donations\n",
    "- Convert categorical explanatory variables into dummy variables\n",
    "- Create response variable (1 for repeated, 0 for single)\n",
    "- Split into train and test data\n",
    "- Check model performance\n",
    "- Analyse Coefficients\n",
    "\n"
   ]
  },
  {
   "cell_type": "code",
   "execution_count": 43,
   "metadata": {},
   "outputs": [
    {
     "name": "stdout",
     "output_type": "stream",
     "text": [
      "    event_B10K  event_C  event_N  event_S  quarter_first  quarter_fourth  \\\n",
      "id                                                                         \n",
      "58           1        0        0        0              0               0   \n",
      "19           0        0        1        0              0               0   \n",
      "20           1        0        0        0              0               0   \n",
      "35           1        0        0        0              0               1   \n",
      "37           1        0        0        0              0               0   \n",
      "\n",
      "    quarter_second  quarter_third  size_large  size_medium  size_small  \n",
      "id                                                                      \n",
      "58               1              0           0            1           0  \n",
      "19               1              0           0            0           1  \n",
      "20               1              0           0            1           0  \n",
      "35               0              0           0            0           1  \n",
      "37               0              1           0            0           1  \n",
      "[0, 1, 1, 0, 0]\n"
     ]
    }
   ],
   "source": [
    "X = donor_data[donor_data[\"type\"] != \"Legacy\"]\n",
    "\n",
    "X = pd.get_dummies(X[['event','quarter','size']])\n",
    "\n",
    "y = []\n",
    "\n",
    "for i in donor_data[\"type\"]:\n",
    "    if i == \"Single\":\n",
    "        y.append(0)\n",
    "    elif i == \"Repeated\":\n",
    "        y.append(1)\n",
    "\n",
    "print(X.head())\n",
    "print(y[0:5])"
   ]
  },
  {
   "cell_type": "code",
   "execution_count": 44,
   "metadata": {},
   "outputs": [],
   "source": [
    "t_percent = 0.8\n",
    "n_rows = round(len(X)*t_percent)\n",
    "\n",
    "Xtrain = X[:n_rows]\n",
    "Xtest = X[n_rows:]\n",
    "\n",
    "ytrain = y[:n_rows]\n",
    "ytest = y[n_rows:]"
   ]
  },
  {
   "cell_type": "code",
   "execution_count": 45,
   "metadata": {},
   "outputs": [
    {
     "name": "stdout",
     "output_type": "stream",
     "text": [
      "              precision    recall  f1-score   support\n",
      "\n",
      "           0       0.73      0.80      0.76        20\n",
      "           1       0.64      0.54      0.58        13\n",
      "\n",
      "    accuracy                           0.70        33\n",
      "   macro avg       0.68      0.67      0.67        33\n",
      "weighted avg       0.69      0.70      0.69        33\n",
      "\n"
     ]
    }
   ],
   "source": [
    "from sklearn.linear_model import LogisticRegression\n",
    "from sklearn.metrics import classification_report\n",
    "\n",
    "logreg = LogisticRegression()\n",
    "logreg.fit(Xtrain, ytrain)\n",
    "\n",
    "ytest_hat = logreg.predict(Xtest)\n",
    "\n",
    "print(classification_report(ytest, ytest_hat))"
   ]
  },
  {
   "cell_type": "code",
   "execution_count": 47,
   "metadata": {},
   "outputs": [
    {
     "name": "stdout",
     "output_type": "stream",
     "text": [
      "[[-1.34696458  0.16351692  0.74567422  0.43784046 -0.48974739 -0.15708584\n",
      "   0.39336074  0.2535395  -0.62120957  0.73102014 -0.10974356]]\n"
     ]
    }
   ],
   "source": [
    "print(logreg.coef_)"
   ]
  },
  {
   "cell_type": "markdown",
   "metadata": {},
   "source": [
    "Most influential in favor of repeated: 3rd variable and 10th variable\n",
    "Most influential against repeated: first variable"
   ]
  },
  {
   "cell_type": "code",
   "execution_count": 49,
   "metadata": {},
   "outputs": [
    {
     "data": {
      "text/html": [
       "<div>\n",
       "<style scoped>\n",
       "    .dataframe tbody tr th:only-of-type {\n",
       "        vertical-align: middle;\n",
       "    }\n",
       "\n",
       "    .dataframe tbody tr th {\n",
       "        vertical-align: top;\n",
       "    }\n",
       "\n",
       "    .dataframe thead th {\n",
       "        text-align: right;\n",
       "    }\n",
       "</style>\n",
       "<table border=\"1\" class=\"dataframe\">\n",
       "  <thead>\n",
       "    <tr style=\"text-align: right;\">\n",
       "      <th></th>\n",
       "      <th>event_B10K</th>\n",
       "      <th>event_C</th>\n",
       "      <th>event_N</th>\n",
       "      <th>event_S</th>\n",
       "      <th>quarter_first</th>\n",
       "      <th>quarter_fourth</th>\n",
       "      <th>quarter_second</th>\n",
       "      <th>quarter_third</th>\n",
       "      <th>size_large</th>\n",
       "      <th>size_medium</th>\n",
       "      <th>size_small</th>\n",
       "    </tr>\n",
       "    <tr>\n",
       "      <th>id</th>\n",
       "      <th></th>\n",
       "      <th></th>\n",
       "      <th></th>\n",
       "      <th></th>\n",
       "      <th></th>\n",
       "      <th></th>\n",
       "      <th></th>\n",
       "      <th></th>\n",
       "      <th></th>\n",
       "      <th></th>\n",
       "      <th></th>\n",
       "    </tr>\n",
       "  </thead>\n",
       "  <tbody>\n",
       "  </tbody>\n",
       "</table>\n",
       "</div>"
      ],
      "text/plain": [
       "Empty DataFrame\n",
       "Columns: [event_B10K, event_C, event_N, event_S, quarter_first, quarter_fourth, quarter_second, quarter_third, size_large, size_medium, size_small]\n",
       "Index: []"
      ]
     },
     "execution_count": 49,
     "metadata": {},
     "output_type": "execute_result"
    }
   ],
   "source": [
    "X.head(0)"
   ]
  },
  {
   "cell_type": "markdown",
   "metadata": {},
   "source": [
    "- Bristol 10k not good at generating repeated donations.\n",
    "- Most repeated donations not linked to an event.\n",
    "- Most repeated donations were of a medium size.\n",
    "- Quarter not particuarly impactful\n",
    "\n",
    "## Summary\n",
    "\n",
    "During this interactive session we\n",
    "\n",
    "- Imported data into a pandas dataframe\n",
    "- Produced histograms of donation frequency using seaborn\n",
    "- Looked at the impact of legacy donations on the donation amount distribution\n",
    "- Used a QQ plot to check for quality of fit of an exponential distribution\n",
    "- Learnt how to bucket donation data in a sensible way\n",
    "- Produced a complex chart overlaying events onto the donation frequency histogram\n",
    "- Completed association analysis to try to understand what drives repeated donations\n",
    "- Used machine learning (logistic regression) to further analysis this\n",
    "\n",
    "How much better is this than Excel? :)"
   ]
  }
 ],
 "metadata": {
  "kernelspec": {
   "display_name": "Python 3",
   "language": "python",
   "name": "python3"
  },
  "language_info": {
   "codemirror_mode": {
    "name": "ipython",
    "version": 3
   },
   "file_extension": ".py",
   "mimetype": "text/x-python",
   "name": "python",
   "nbconvert_exporter": "python",
   "pygments_lexer": "ipython3",
   "version": "3.7.5"
  }
 },
 "nbformat": 4,
 "nbformat_minor": 4
}
